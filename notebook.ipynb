{
 "cells": [
  {
   "cell_type": "markdown",
   "metadata": {},
   "source": [
    "# Welcome to the hair type prediction notebook\n",
    "\n",
    "***Disclaimer:*** This is no where near to my proposed project, however since my project relies on datasets i couldn't find on kaggle i decided to implement the same model architecture but with a CNN and a different but exciting dataset \n",
    "\n",
    "This notebook designs a Convulational Neural Network that predicts hair types from a dataset of around 1900 images and five classess namely; curly, dreadlocks, kinky, straight and Wavy. "
   ]
  },
  {
   "cell_type": "code",
   "execution_count": 1,
   "metadata": {},
   "outputs": [],
   "source": [
    "import tensorflow as tf \n",
    "import numpy as np\n",
    "import matplotlib.pyplot as plt\n",
    "import seaborn as sns\n",
    "from tensorflow.keras.preprocessing.image import ImageDataGenerator \n",
    "from tensorflow.keras import layers\n",
    "from tensorflow.keras.models import Sequential\n",
    "from tensorflow.keras.optimizers import RMSprop\n",
    "from sklearn.metrics import confusion_matrix, classification_report, accuracy_score, precision_score, recall_score, f1_score\n"
   ]
  },
  {
   "cell_type": "markdown",
   "metadata": {},
   "source": [
    "# Part 1: Image dataset handling and processing\n",
    "\n",
    "In this part divided my data into three parts. Two already existing parts: Train and Test, And the third potion which is validation data. Validation is taken from training data"
   ]
  },
  {
   "cell_type": "code",
   "execution_count": 2,
   "metadata": {},
   "outputs": [
    {
     "name": "stdout",
     "output_type": "stream",
     "text": [
      "Found 1329 images belonging to 5 classes.\n",
      "Found 329 images belonging to 5 classes.\n",
      "Found 329 images belonging to 5 classes.\n"
     ]
    }
   ],
   "source": [
    "image_size = (200, 200)\n",
    "batch_size = 32\n",
    "\n",
    "train_directory = 'data/train'\n",
    "test_directory = 'data/test'\n",
    "\n",
    "train_datagen = ImageDataGenerator(rescale=1./255, validation_split=0.2)\n",
    "train_data = train_datagen.flow_from_directory(train_directory, \n",
    "                                                  target_size = image_size, \n",
    "                                                  batch_size = batch_size, \n",
    "                                                  class_mode = 'categorical',\n",
    "                                                  subset='training'\n",
    "                                                  )\n",
    "\n",
    "val_data = train_datagen.flow_from_directory(train_directory,\n",
    "                                                       target_size = image_size,\n",
    "                                                       batch_size = batch_size,\n",
    "                                                       class_mode = 'categorical',\n",
    "                                                       subset='validation'\n",
    "                                                         )\n",
    "\n",
    "test_datagen = ImageDataGenerator(rescale=1./255)\n",
    "test_data = test_datagen.flow_from_directory(test_directory, target_size = image_size, batch_size = batch_size,class_mode = 'categorical')"
   ]
  },
  {
   "cell_type": "markdown",
   "metadata": {},
   "source": [
    "# PART 2: Vanilla model\n",
    "\n",
    "in this part i designed a vanilla model that has an input convulation layer that takes shape (200, 200, 3) because i did not use greyscale in the essence of catching something more with color"
   ]
  },
  {
   "cell_type": "code",
   "execution_count": 3,
   "metadata": {},
   "outputs": [
    {
     "name": "stderr",
     "output_type": "stream",
     "text": [
      "c:\\Users\\USER\\AppData\\Local\\Programs\\Python\\Python312\\Lib\\site-packages\\keras\\src\\layers\\convolutional\\base_conv.py:99: UserWarning: Do not pass an `input_shape`/`input_dim` argument to a layer. When using Sequential models, prefer using an `Input(shape)` object as the first layer in the model instead.\n",
      "  super().__init__(\n"
     ]
    },
    {
     "name": "stdout",
     "output_type": "stream",
     "text": [
      "Epoch 1/20\n"
     ]
    },
    {
     "name": "stderr",
     "output_type": "stream",
     "text": [
      "c:\\Users\\USER\\AppData\\Local\\Programs\\Python\\Python312\\Lib\\site-packages\\keras\\src\\trainers\\data_adapters\\py_dataset_adapter.py:122: UserWarning: Your `PyDataset` class should call `super().__init__(**kwargs)` in its constructor. `**kwargs` can include `workers`, `use_multiprocessing`, `max_queue_size`. Do not pass these arguments to `fit()`, as they will be ignored.\n",
      "  self._warn_if_super_not_called()\n"
     ]
    },
    {
     "name": "stdout",
     "output_type": "stream",
     "text": [
      "\u001b[1m42/42\u001b[0m \u001b[32m━━━━━━━━━━━━━━━━━━━━\u001b[0m\u001b[37m\u001b[0m \u001b[1m41s\u001b[0m 907ms/step - accuracy: 0.2227 - loss: 1.8124 - val_accuracy: 0.2523 - val_loss: 1.5537\n",
      "Epoch 2/20\n",
      "\u001b[1m42/42\u001b[0m \u001b[32m━━━━━━━━━━━━━━━━━━━━\u001b[0m\u001b[37m\u001b[0m \u001b[1m39s\u001b[0m 904ms/step - accuracy: 0.3107 - loss: 1.5314 - val_accuracy: 0.4195 - val_loss: 1.4392\n",
      "Epoch 3/20\n",
      "\u001b[1m42/42\u001b[0m \u001b[32m━━━━━━━━━━━━━━━━━━━━\u001b[0m\u001b[37m\u001b[0m \u001b[1m39s\u001b[0m 905ms/step - accuracy: 0.4135 - loss: 1.4226 - val_accuracy: 0.4650 - val_loss: 1.3030\n",
      "Epoch 4/20\n",
      "\u001b[1m42/42\u001b[0m \u001b[32m━━━━━━━━━━━━━━━━━━━━\u001b[0m\u001b[37m\u001b[0m \u001b[1m40s\u001b[0m 928ms/step - accuracy: 0.5272 - loss: 1.1958 - val_accuracy: 0.4863 - val_loss: 1.2747\n",
      "Epoch 5/20\n",
      "\u001b[1m42/42\u001b[0m \u001b[32m━━━━━━━━━━━━━━━━━━━━\u001b[0m\u001b[37m\u001b[0m \u001b[1m38s\u001b[0m 881ms/step - accuracy: 0.5524 - loss: 1.0937 - val_accuracy: 0.4924 - val_loss: 1.3269\n",
      "Epoch 6/20\n",
      "\u001b[1m42/42\u001b[0m \u001b[32m━━━━━━━━━━━━━━━━━━━━\u001b[0m\u001b[37m\u001b[0m \u001b[1m39s\u001b[0m 898ms/step - accuracy: 0.6457 - loss: 0.9089 - val_accuracy: 0.5046 - val_loss: 1.2219\n",
      "Epoch 7/20\n",
      "\u001b[1m42/42\u001b[0m \u001b[32m━━━━━━━━━━━━━━━━━━━━\u001b[0m\u001b[37m\u001b[0m \u001b[1m231s\u001b[0m 6s/step - accuracy: 0.7317 - loss: 0.6757 - val_accuracy: 0.5653 - val_loss: 1.4545\n",
      "Epoch 8/20\n",
      "\u001b[1m42/42\u001b[0m \u001b[32m━━━━━━━━━━━━━━━━━━━━\u001b[0m\u001b[37m\u001b[0m \u001b[1m37s\u001b[0m 848ms/step - accuracy: 0.8050 - loss: 0.5244 - val_accuracy: 0.5198 - val_loss: 1.4680\n",
      "Epoch 9/20\n",
      "\u001b[1m42/42\u001b[0m \u001b[32m━━━━━━━━━━━━━━━━━━━━\u001b[0m\u001b[37m\u001b[0m \u001b[1m36s\u001b[0m 836ms/step - accuracy: 0.8881 - loss: 0.3266 - val_accuracy: 0.5684 - val_loss: 1.5931\n",
      "Epoch 10/20\n",
      "\u001b[1m42/42\u001b[0m \u001b[32m━━━━━━━━━━━━━━━━━━━━\u001b[0m\u001b[37m\u001b[0m \u001b[1m36s\u001b[0m 826ms/step - accuracy: 0.9198 - loss: 0.2282 - val_accuracy: 0.5502 - val_loss: 1.9744\n",
      "Epoch 11/20\n",
      "\u001b[1m42/42\u001b[0m \u001b[32m━━━━━━━━━━━━━━━━━━━━\u001b[0m\u001b[37m\u001b[0m \u001b[1m35s\u001b[0m 823ms/step - accuracy: 0.9530 - loss: 0.1701 - val_accuracy: 0.5866 - val_loss: 2.4418\n",
      "Epoch 12/20\n",
      "\u001b[1m42/42\u001b[0m \u001b[32m━━━━━━━━━━━━━━━━━━━━\u001b[0m\u001b[37m\u001b[0m \u001b[1m36s\u001b[0m 839ms/step - accuracy: 0.9786 - loss: 0.0957 - val_accuracy: 0.5623 - val_loss: 2.4459\n",
      "Epoch 13/20\n",
      "\u001b[1m42/42\u001b[0m \u001b[32m━━━━━━━━━━━━━━━━━━━━\u001b[0m\u001b[37m\u001b[0m \u001b[1m242s\u001b[0m 6s/step - accuracy: 0.9542 - loss: 0.1310 - val_accuracy: 0.5532 - val_loss: 2.2100\n",
      "Epoch 14/20\n",
      "\u001b[1m42/42\u001b[0m \u001b[32m━━━━━━━━━━━━━━━━━━━━\u001b[0m\u001b[37m\u001b[0m \u001b[1m36s\u001b[0m 833ms/step - accuracy: 0.9803 - loss: 0.0850 - val_accuracy: 0.5775 - val_loss: 2.7547\n",
      "Epoch 15/20\n",
      "\u001b[1m42/42\u001b[0m \u001b[32m━━━━━━━━━━━━━━━━━━━━\u001b[0m\u001b[37m\u001b[0m \u001b[1m37s\u001b[0m 860ms/step - accuracy: 0.9941 - loss: 0.0269 - val_accuracy: 0.5562 - val_loss: 2.8629\n",
      "Epoch 16/20\n",
      "\u001b[1m42/42\u001b[0m \u001b[32m━━━━━━━━━━━━━━━━━━━━\u001b[0m\u001b[37m\u001b[0m \u001b[1m37s\u001b[0m 872ms/step - accuracy: 0.9874 - loss: 0.0411 - val_accuracy: 0.5562 - val_loss: 2.9020\n",
      "Epoch 17/20\n",
      "\u001b[1m42/42\u001b[0m \u001b[32m━━━━━━━━━━━━━━━━━━━━\u001b[0m\u001b[37m\u001b[0m \u001b[1m36s\u001b[0m 849ms/step - accuracy: 0.9925 - loss: 0.0351 - val_accuracy: 0.5441 - val_loss: 3.2304\n",
      "Epoch 18/20\n",
      "\u001b[1m42/42\u001b[0m \u001b[32m━━━━━━━━━━━━━━━━━━━━\u001b[0m\u001b[37m\u001b[0m \u001b[1m113s\u001b[0m 3s/step - accuracy: 0.9932 - loss: 0.0337 - val_accuracy: 0.4894 - val_loss: 3.3147\n",
      "Epoch 19/20\n",
      "\u001b[1m42/42\u001b[0m \u001b[32m━━━━━━━━━━━━━━━━━━━━\u001b[0m\u001b[37m\u001b[0m \u001b[1m38s\u001b[0m 858ms/step - accuracy: 0.9813 - loss: 0.0641 - val_accuracy: 0.5775 - val_loss: 3.1445\n",
      "Epoch 20/20\n",
      "\u001b[1m42/42\u001b[0m \u001b[32m━━━━━━━━━━━━━━━━━━━━\u001b[0m\u001b[37m\u001b[0m \u001b[1m37s\u001b[0m 858ms/step - accuracy: 0.9957 - loss: 0.0179 - val_accuracy: 0.5228 - val_loss: 3.3330\n"
     ]
    }
   ],
   "source": [
    "vanilla_model = Sequential()\n",
    "vanilla_model.add(layers.Conv2D(32, (3, 3), activation='relu', input_shape=(200, 200, 3)))\n",
    "vanilla_model.add(layers.MaxPooling2D((2, 2)))\n",
    "\n",
    "# Adding more hidden layers to the model to increase the complexity of the model\n",
    "vanilla_model.add(layers.Conv2D(64, (3, 3), activation='relu'))\n",
    "vanilla_model.add(layers.MaxPooling2D((2, 2)))\n",
    "vanilla_model.add(layers.Conv2D(128, (3, 3), activation='relu'))\n",
    "vanilla_model.add(layers.MaxPooling2D((2, 2)))\n",
    "vanilla_model.add(layers.Conv2D(256, (3, 3), activation='relu'))\n",
    "vanilla_model.add(layers.MaxPooling2D((2, 2)))\n",
    "vanilla_model.add(layers.Flatten())\n",
    "\n",
    "# Finally adding a dense layer to the model\n",
    "vanilla_model.add(layers.Dense(512, activation='relu'))\n",
    "\n",
    "# A softmax layer for the output since this is a multi-class classification model\n",
    "vanilla_model.add(layers.Dense(5, activation='softmax'))\n",
    "\n",
    "# in this vanilla model we are using adam as the optimizer and categorical crossentropy as the loss function\n",
    "vanilla_model.compile(optimizer='adam', loss='categorical_crossentropy', metrics=['accuracy'])\n",
    "\n",
    "history = vanilla_model.fit(train_data, epochs = 20, validation_data = val_data)\n",
    "\n"
   ]
  },
  {
   "cell_type": "code",
   "execution_count": 11,
   "metadata": {},
   "outputs": [
    {
     "name": "stdout",
     "output_type": "stream",
     "text": [
      "\u001b[1m11/11\u001b[0m \u001b[32m━━━━━━━━━━━━━━━━━━━━\u001b[0m\u001b[37m\u001b[0m \u001b[1m13s\u001b[0m 1s/step - accuracy: 0.5629 - loss: 3.7125\n",
      "Test accuracy : 0.5592705011367798\n",
      "Test loss : 3.420478105545044\n"
     ]
    }
   ],
   "source": [
    "loss, accuracy = vanilla_model.evaluate(test_data)\n",
    "print('Test accuracy :', accuracy)\n",
    "print('Test loss :', loss)"
   ]
  },
  {
   "cell_type": "markdown",
   "metadata": {},
   "source": [
    "# PART 3: Regularized model\n",
    "\n",
    "In the previous model we can see overfitting in the difference between the validation accuracy and training accuracy so in the next model i will add regularization techniques to solve the issue"
   ]
  },
  {
   "cell_type": "code",
   "execution_count": 8,
   "metadata": {},
   "outputs": [
    {
     "name": "stderr",
     "output_type": "stream",
     "text": [
      "c:\\Users\\USER\\AppData\\Local\\Programs\\Python\\Python312\\Lib\\site-packages\\keras\\src\\layers\\convolutional\\base_conv.py:99: UserWarning: Do not pass an `input_shape`/`input_dim` argument to a layer. When using Sequential models, prefer using an `Input(shape)` object as the first layer in the model instead.\n",
      "  super().__init__(\n"
     ]
    },
    {
     "name": "stdout",
     "output_type": "stream",
     "text": [
      "Epoch 1/20\n",
      "\u001b[1m42/42\u001b[0m \u001b[32m━━━━━━━━━━━━━━━━━━━━\u001b[0m\u001b[37m\u001b[0m \u001b[1m44s\u001b[0m 975ms/step - accuracy: 0.2493 - loss: 6.1906 - val_accuracy: 0.2280 - val_loss: 2.5795\n",
      "Epoch 2/20\n",
      "\u001b[1m42/42\u001b[0m \u001b[32m━━━━━━━━━━━━━━━━━━━━\u001b[0m\u001b[37m\u001b[0m \u001b[1m40s\u001b[0m 929ms/step - accuracy: 0.2644 - loss: 2.4654 - val_accuracy: 0.2918 - val_loss: 2.2274\n",
      "Epoch 3/20\n",
      "\u001b[1m42/42\u001b[0m \u001b[32m━━━━━━━━━━━━━━━━━━━━\u001b[0m\u001b[37m\u001b[0m \u001b[1m41s\u001b[0m 948ms/step - accuracy: 0.3714 - loss: 2.0825 - val_accuracy: 0.3647 - val_loss: 1.9249\n",
      "Epoch 4/20\n",
      "\u001b[1m42/42\u001b[0m \u001b[32m━━━━━━━━━━━━━━━━━━━━\u001b[0m\u001b[37m\u001b[0m \u001b[1m40s\u001b[0m 933ms/step - accuracy: 0.4217 - loss: 1.8064 - val_accuracy: 0.2644 - val_loss: 1.7977\n",
      "Epoch 5/20\n",
      "\u001b[1m42/42\u001b[0m \u001b[32m━━━━━━━━━━━━━━━━━━━━\u001b[0m\u001b[37m\u001b[0m \u001b[1m40s\u001b[0m 941ms/step - accuracy: 0.4395 - loss: 1.6549 - val_accuracy: 0.4012 - val_loss: 1.6284\n",
      "Epoch 6/20\n",
      "\u001b[1m42/42\u001b[0m \u001b[32m━━━━━━━━━━━━━━━━━━━━\u001b[0m\u001b[37m\u001b[0m \u001b[1m483s\u001b[0m 12s/step - accuracy: 0.4406 - loss: 1.5703 - val_accuracy: 0.3982 - val_loss: 1.5352\n",
      "Epoch 7/20\n",
      "\u001b[1m42/42\u001b[0m \u001b[32m━━━━━━━━━━━━━━━━━━━━\u001b[0m\u001b[37m\u001b[0m \u001b[1m39s\u001b[0m 905ms/step - accuracy: 0.4695 - loss: 1.4606 - val_accuracy: 0.4833 - val_loss: 1.4629\n",
      "Epoch 8/20\n",
      "\u001b[1m42/42\u001b[0m \u001b[32m━━━━━━━━━━━━━━━━━━━━\u001b[0m\u001b[37m\u001b[0m \u001b[1m39s\u001b[0m 921ms/step - accuracy: 0.5055 - loss: 1.3614 - val_accuracy: 0.4529 - val_loss: 1.4576\n",
      "Epoch 9/20\n",
      "\u001b[1m42/42\u001b[0m \u001b[32m━━━━━━━━━━━━━━━━━━━━\u001b[0m\u001b[37m\u001b[0m \u001b[1m40s\u001b[0m 911ms/step - accuracy: 0.5497 - loss: 1.2819 - val_accuracy: 0.4954 - val_loss: 1.3992\n",
      "Epoch 10/20\n",
      "\u001b[1m42/42\u001b[0m \u001b[32m━━━━━━━━━━━━━━━━━━━━\u001b[0m\u001b[37m\u001b[0m \u001b[1m86s\u001b[0m 2s/step - accuracy: 0.5690 - loss: 1.1983 - val_accuracy: 0.4985 - val_loss: 1.4346\n",
      "Epoch 11/20\n",
      "\u001b[1m42/42\u001b[0m \u001b[32m━━━━━━━━━━━━━━━━━━━━\u001b[0m\u001b[37m\u001b[0m \u001b[1m41s\u001b[0m 935ms/step - accuracy: 0.6380 - loss: 1.1233 - val_accuracy: 0.4894 - val_loss: 1.4306\n",
      "Epoch 12/20\n",
      "\u001b[1m42/42\u001b[0m \u001b[32m━━━━━━━━━━━━━━━━━━━━\u001b[0m\u001b[37m\u001b[0m \u001b[1m40s\u001b[0m 940ms/step - accuracy: 0.6601 - loss: 1.0795 - val_accuracy: 0.5076 - val_loss: 1.4625\n",
      "Epoch 13/20\n",
      "\u001b[1m42/42\u001b[0m \u001b[32m━━━━━━━━━━━━━━━━━━━━\u001b[0m\u001b[37m\u001b[0m \u001b[1m38s\u001b[0m 898ms/step - accuracy: 0.6558 - loss: 1.0694 - val_accuracy: 0.4438 - val_loss: 1.4748\n",
      "Epoch 14/20\n",
      "\u001b[1m42/42\u001b[0m \u001b[32m━━━━━━━━━━━━━━━━━━━━\u001b[0m\u001b[37m\u001b[0m \u001b[1m39s\u001b[0m 893ms/step - accuracy: 0.6990 - loss: 0.9673 - val_accuracy: 0.5076 - val_loss: 1.4521\n"
     ]
    }
   ],
   "source": [
    "from tensorflow.keras import regularizers\n",
    "from tensorflow.keras.layers import Dropout\n",
    "from tensorflow.keras.callbacks import EarlyStopping\n",
    "\n",
    "regularized_model = Sequential()\n",
    "regularized_model.add(layers.Conv2D(32, (3, 3), activation='relu', input_shape=(200, 200, 3)))\n",
    "regularized_model.add(layers.MaxPooling2D((2, 2)))\n",
    "regularized_model.add(Dropout(0.3)) # Adding dropout to the model to prevent overfitting\n",
    "\n",
    "# Adding more hidden layers to the model to increase the complexity of the model\n",
    "regularized_model.add(layers.Conv2D(64, (3, 3), activation='relu', kernel_regularizer=regularizers.l2(0.001)))\n",
    "regularized_model.add(layers.MaxPooling2D((2, 2)))\n",
    "regularized_model.add(Dropout(0.3))\n",
    "regularized_model.add(layers.Conv2D(128, (3, 3), activation='relu', kernel_regularizer=regularizers.l2(0.001)))\n",
    "regularized_model.add(layers.MaxPooling2D((2, 2)))\n",
    "regularized_model.add(Dropout(0.3))\n",
    "regularized_model.add(layers.Conv2D(256, (3, 3), activation='relu', kernel_regularizer=regularizers.l2(0.001)))\n",
    "regularized_model.add(layers.MaxPooling2D((2, 2)))\n",
    "regularized_model.add(Dropout(0.3))\n",
    "regularized_model.add(layers.Flatten())\n",
    "\n",
    "# Adding a dense layer to the model\n",
    "regularized_model.add(layers.Dense(512, activation='relu', kernel_regularizer=regularizers.l2(0.001)))\n",
    "regularized_model.add(Dropout(0.3))\n",
    "regularized_model.add(layers.Dense(5, activation='softmax')) \n",
    "\n",
    "# Adding early stopping to the model to prevent and track overfitting\n",
    "early_stopping = EarlyStopping(monitor='val_loss', patience=5, restore_best_weights=True)\n",
    "\n",
    "# in this regularized model we are using RMSprop as the optimizer different from the vanilla model\n",
    "regularized_model.compile(optimizer=RMSprop(learning_rate=0.001), loss='categorical_crossentropy', metrics=['accuracy'])\n",
    "\n",
    "history = regularized_model.fit(train_data, epochs = 20, validation_data= val_data, callbacks=[early_stopping])\n",
    "\n"
   ]
  },
  {
   "cell_type": "code",
   "execution_count": 12,
   "metadata": {},
   "outputs": [
    {
     "name": "stdout",
     "output_type": "stream",
     "text": [
      "\u001b[1m11/11\u001b[0m \u001b[32m━━━━━━━━━━━━━━━━━━━━\u001b[0m\u001b[37m\u001b[0m \u001b[1m12s\u001b[0m 1s/step - accuracy: 0.4328 - loss: 1.3938\n",
      "Test accuracy : 0.45896655321121216\n",
      "Test loss : 1.423917531967163\n"
     ]
    }
   ],
   "source": [
    "loss, accuracy = regularized_model.evaluate(test_data)\n",
    "print('Test accuracy :', accuracy)\n",
    "print('Test loss :', loss)"
   ]
  },
  {
   "cell_type": "code",
   "execution_count": 19,
   "metadata": {},
   "outputs": [],
   "source": [
    "# Saving the models in an efficient way to be able to load them later\n",
    "regularized_model.save('model2.keras')\n",
    "vanilla_model.save('model1.keras')"
   ]
  },
  {
   "cell_type": "code",
   "execution_count": 20,
   "metadata": {},
   "outputs": [],
   "source": [
    "#since .keras files are too large to upload, I will save the models in a pickle file\n",
    "import pickle\n",
    "with open('saved_models/model1.pkl', 'wb') as f:\n",
    "    pickle.dump('model1.keras', f)\n",
    "\n",
    "    \n",
    "with open('saved_models/model2.pkl', 'wb') as f:\n",
    "    pickle.dump('model2.keras', f)"
   ]
  },
  {
   "cell_type": "markdown",
   "metadata": {},
   "source": [
    "# PART 4: Error Analysis and model intepratation\n",
    "\n",
    "In this part we will examine the models further to see how they perform and what could be done to improve this model\n"
   ]
  },
  {
   "cell_type": "code",
   "execution_count": 21,
   "metadata": {},
   "outputs": [
    {
     "name": "stdout",
     "output_type": "stream",
     "text": [
      "\u001b[1m11/11\u001b[0m \u001b[32m━━━━━━━━━━━━━━━━━━━━\u001b[0m\u001b[37m\u001b[0m \u001b[1m5s\u001b[0m 301ms/step\n",
      "\n",
      "Confusion Matrix:\n",
      " [[17 13 18 20  9]\n",
      " [14  7  7 12  2]\n",
      " [14 26 25 25  8]\n",
      " [16 25 17 17  9]\n",
      " [ 4  2  6 10  6]]\n",
      "\n",
      "Classification Report:\n",
      "               precision    recall  f1-score   support\n",
      "\n",
      "    Straight       0.26      0.22      0.24        77\n",
      "        Wavy       0.10      0.17      0.12        42\n",
      "       curly       0.34      0.26      0.29        98\n",
      "  dreadlocks       0.20      0.20      0.20        84\n",
      "       kinky       0.18      0.21      0.19        28\n",
      "\n",
      "    accuracy                           0.22       329\n",
      "   macro avg       0.22      0.21      0.21       329\n",
      "weighted avg       0.24      0.22      0.23       329\n",
      "\n",
      "\n",
      "Model Performance Metrics:\n",
      "Accuracy: 0.2188\n",
      "Precision: 0.2422\n",
      "Recall: 0.2188\n",
      "F1 Score: 0.2268\n"
     ]
    },
    {
     "data": {
      "image/png": "[encoded data removed]",
      "text/plain": [
       "<Figure size 800x600 with 2 Axes>"
      ]
     },
     "metadata": {},
     "output_type": "display_data"
    }
   ],
   "source": [
    "\n",
    "# making a prediction on the test data using the vanilla model\n",
    "pred_prob = vanilla_model.predict(test_data) \n",
    "pred_labels = np.argmax(pred_prob, axis=1)  \n",
    "\n",
    "# getting the true labels of the test data (the five classes we have) and comparing it with the predicted labels\n",
    "true_labels = test_data.classes  \n",
    "\n",
    "conf_matrix = confusion_matrix(true_labels, pred_labels) # getting the confusion matrix\n",
    "print(\"\\nConfusion Matrix:\\n\", conf_matrix)\n",
    "\n",
    "class_names = test_data.class_indices  \n",
    "print(\"\\nClassification Report:\\n\", classification_report(true_labels, pred_labels, target_names=list(class_names.keys())))\n",
    "\n",
    "# Calculating the performance metrics of the model using the true and predicted labels\n",
    "accuracy = accuracy_score(true_labels, pred_labels)\n",
    "precision = precision_score(true_labels, pred_labels, average='weighted')  \n",
    "recall = recall_score(true_labels, pred_labels, average='weighted')  \n",
    "f1 = f1_score(true_labels, pred_labels, average='weighted') \n",
    "\n",
    "# Printing the performance metrics of the model\n",
    "print(f\"\\nModel Performance Metrics:\")\n",
    "print(f\"Accuracy: {accuracy:.4f}\")\n",
    "print(f\"Precision: {precision:.4f}\")\n",
    "print(f\"Recall: {recall:.4f}\")\n",
    "print(f\"F1 Score: {f1:.4f}\")\n",
    "\n",
    "plt.figure(figsize=(8, 6))\n",
    "sns.heatmap(conf_matrix, annot=True, fmt='d', cmap='Blues', \n",
    "            xticklabels=list(class_names.keys()), \n",
    "            yticklabels=list(class_names.keys()))\n",
    "plt.title('Confusion Matrix - Vanilla CNN Model')\n",
    "plt.xlabel('Predicted Labels')\n",
    "plt.ylabel('True Labels')\n",
    "plt.show()\n"
   ]
  },
  {
   "cell_type": "code",
   "execution_count": 22,
   "metadata": {},
   "outputs": [
    {
     "name": "stdout",
     "output_type": "stream",
     "text": [
      "\u001b[1m11/11\u001b[0m \u001b[32m━━━━━━━━━━━━━━━━━━━━\u001b[0m\u001b[37m\u001b[0m \u001b[1m4s\u001b[0m 289ms/step\n",
      "\n",
      "Confusion Matrix:\n",
      " [[21 10 15 22  9]\n",
      " [11  5  3 15  8]\n",
      " [19  4 15 51  9]\n",
      " [23  8 17 28  8]\n",
      " [10  2  3 11  2]]\n",
      "\n",
      "Classification Report:\n",
      "               precision    recall  f1-score   support\n",
      "\n",
      "    Straight       0.25      0.27      0.26        77\n",
      "        Wavy       0.17      0.12      0.14        42\n",
      "       curly       0.28      0.15      0.20        98\n",
      "  dreadlocks       0.22      0.33      0.27        84\n",
      "       kinky       0.06      0.07      0.06        28\n",
      "\n",
      "    accuracy                           0.22       329\n",
      "   macro avg       0.20      0.19      0.19       329\n",
      "weighted avg       0.23      0.22      0.21       329\n",
      "\n",
      "\n",
      "Model Performance Metrics:\n",
      "Accuracy: 0.2158\n",
      "Precision: 0.2258\n",
      "Recall: 0.2158\n",
      "F1 Score: 0.2113\n"
     ]
    },
    {
     "data": {
      "image/png": "[encoded data removed]",
      "text/plain": [
       "<Figure size 800x600 with 2 Axes>"
      ]
     },
     "metadata": {},
     "output_type": "display_data"
    }
   ],
   "source": [
    "# making a prediction on the test data using the regularized model\n",
    "r_pred_prob = regularized_model.predict(test_data) \n",
    "r_pred_labels = np.argmax(r_pred_prob, axis=1)  \n",
    "\n",
    "# getting the true labels of the test data and comparing it with the predicted labels and then getting the confusion matrix\n",
    "r_true_labels = test_data.classes  \n",
    "\n",
    "conf_matrix = confusion_matrix(r_true_labels, r_pred_labels)\n",
    "print(\"\\nConfusion Matrix:\\n\", conf_matrix)\n",
    "\n",
    "class_names = test_data.class_indices  \n",
    "print(\"\\nClassification Report:\\n\", classification_report(r_true_labels, r_pred_labels, target_names=list(class_names.keys())))\n",
    "\n",
    "# Calculating the performance metrics of the model using the true and predicted labels\n",
    "accuracy = accuracy_score(r_true_labels, r_pred_labels)\n",
    "precision = precision_score(r_true_labels, r_pred_labels, average='weighted')  \n",
    "recall = recall_score(r_true_labels, r_pred_labels, average='weighted')  \n",
    "f1 = f1_score(r_true_labels, r_pred_labels, average='weighted') \n",
    "\n",
    "print(f\"\\nModel Performance Metrics:\")\n",
    "print(f\"Accuracy: {accuracy:.4f}\")\n",
    "print(f\"Precision: {precision:.4f}\")\n",
    "print(f\"Recall: {recall:.4f}\")\n",
    "print(f\"F1 Score: {f1:.4f}\")\n",
    "\n",
    "plt.figure(figsize=(8, 6))\n",
    "sns.heatmap(conf_matrix, annot=True, fmt='d', cmap='Blues', \n",
    "            xticklabels=list(class_names.keys()), \n",
    "            yticklabels=list(class_names.keys()))\n",
    "plt.title('Confusion Matrix - CNN Model')\n",
    "plt.xlabel('Predicted Labels')\n",
    "plt.ylabel('True Labels')\n",
    "plt.show()"
   ]
  },
  {
   "cell_type": "markdown",
   "metadata": {},
   "source": [
    "# Conclusion:\n",
    "\n",
    "From the error analysis alot of observations and deductions can be made. The main observations are:\n",
    "\n",
    "**Model Performance**:\n",
    "Performance wise The vanilla model achieved a test accuracy of approximately 55.93%, while the regularized model achieved a test accuracy of approximately 45.90%. The vanilla model's loss was higher (3.55) compared to the regularized model's loss (1.39), indicating that the regularized model was better at minimizing the loss function. This means on the test data the vanilla model outperformed the regularized model. With regards to the loss the results show that the regularized model is better at minimizing the loss function and avoiding overfitting.\n",
    "\n",
    "**Confusion Matrix**:\n",
    "Both models struggled to accurately classify certain hair types, as evidenced by the confusion matrices. Misclassifications were common across all classes. The confusion matrices for both models show that the models often confused similar hair types, which suggests that the features extracted by the models were not sufficiently discriminative.\n",
    "\n",
    "**Classification Report**:\n",
    "The classification reports for both models indicate that precision, recall, and F1 scores were generally low across all classes. This suggests that the models had difficulty in correctly identifying the hair types. The regularized model showed slightly better precision and recall for some classes compared to the vanilla model, but overall performance metrics were still suboptimal.\n",
    "\n",
    "# What can be done?\n",
    "\n",
    "To increase the performance of this model to advance to further stages of development i think the following can be done\n",
    "\n",
    "- **Data Immprovements**: On the step of data augmentation experimenting with different sizes and maybe other transformations can probably improve the model. I tried increasing image sizes but the model increased its training time and resources needed and that was a limiting factor\n",
    "- **Model Architecture**: Experimenting with more layers or in case of the regularized models experimenting with other regularizers like L1 can probably improve the model\n",
    "- **Parameter Tuning**: Fine-tuning hyperparameters such as learning rate, batch size, and regularization parameters could yield better results.\n",
    "\n",
    "I tried experimenting with different epoch numbers, different batch sizes but due to the resource intensive nature of cnn there was latency and i decided to go with the optimal values. \n",
    "\n",
    "\n"
   ]
  },
  {
   "cell_type": "markdown",
   "metadata": {},
   "source": [
    "# Lastly?\n",
    "While both models provided a baseline for hair type classification, there is significant room for improvement. I'm looking forward to learning new techniques to help in enhancing the model's ability to extract and learn more discriminative features, as well as addressing the challenges of overfitting and class imbalance in a more accurate way."
   ]
  }
 ],
 "metadata": {
  "kernelspec": {
   "display_name": "Python 3",
   "language": "python",
   "name": "python3"
  },
  "language_info": {
   "codemirror_mode": {
    "name": "ipython",
    "version": 3
   },
   "file_extension": ".py",
   "mimetype": "text/x-python",
   "name": "python",
   "nbconvert_exporter": "python",
   "pygments_lexer": "ipython3",
   "version": "3.12.2"
  }
 },
 "nbformat": 4,
 "nbformat_minor": 2
}
